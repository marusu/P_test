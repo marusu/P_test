{
 "cells": [
  {
   "cell_type": "code",
   "execution_count": 78,
   "metadata": {},
   "outputs": [
    {
     "name": "stdout",
     "output_type": "stream",
     "text": [
      "故障状態のサーバアドレス　：10.20.30.1/16\n",
      "サーバの故障期間　：20201019133324.000～20201019133325.002 ：0年0カ月0日0時間0分1.002秒間\n",
      "\n",
      "故障状態のサーバアドレス　：10.20.30.1/16\n",
      "サーバの故障期間　：20201019133324.000～20201020133450.289 ：0年0カ月1日0時間1分26.289秒間\n",
      "\n"
     ]
    }
   ],
   "source": [
    "f = open('test1.txt', 'r', encoding='UTF-8')  #監視ログファイルの読み込み\n",
    "\n",
    "l1 = f.readlines()  #ファイル内を1行ずつリストへ格納\n",
    "\n",
    "open('result1.txt', 'w').close()  #予め用意したresult1.txtの中身を空にする\n",
    "count = 0\n",
    "for data in l1:  #リスト内を1行ずつdata変数に格納　#リスト内の要素数分だけ繰り返す   \n",
    "    count += 1  #何回目のループ（何要素目）かカウントしておく\n",
    "#     print(data)\n",
    "    if \"-\" in data:  #「-」があったら（pingがタイムアウトしていたら）if文内の処理\n",
    "        l2 = data.split(\",\")  #現在の要素を「,」で区切ってリスト化\n",
    "        next_data = l1[count]  #次の要素を変数に格納\n",
    "        l3 = next_data.split(\",\")  #次の行を「,」で区切ってリスト化\n",
    "#         print(l2)\n",
    "#         print(l3)\n",
    "        SA = l2[1]  #l2リストの2番目の要素（故障状態のサーバアドレス）をSAに格納\n",
    "        FPy = str(int(l3[0][0:4]) - int(l2[0][0:4]))  #サーバの故障期間（年）をFPyに格納\n",
    "        FPmo = str(int(l3[0][4:6]) - int(l2[0][4:6]))  #サーバの故障期間（月）をFPmoに格納\n",
    "        FPd = str(int(l3[0][6:8]) - int(l2[0][6:8]))  #サーバの故障期間（日）をFPdに格納\n",
    "        FPh = str(int(l3[0][8:10]) - int(l2[0][8:10]))  #サーバの故障期間（時間）をFPhに格納\n",
    "        FPm = str(int(l3[0][10:12]) - int(l2[0][10:12]))  #サーバの故障期間をFPm（分）に格納\n",
    "        FPs = str(int(l3[0][12:14]) - int(l2[0][12:14]) + (int(l3[2])/1000))  #サーバの故障期間（秒）をFPsに格納,応答にかかった時間も考慮\n",
    "        print(\"故障状態のサーバアドレス　：\"+str(SA))\n",
    "        print(\"サーバの故障期間　：\"+l2[0]+\".000～\"+str(int(l3[0]))+str(int(l3[2])/1000).strip(\"0\")+\" ：\"+FPy+\"年\"+FPmo+\"カ月\"+FPd+\"日\"+FPh+\"時間\"+FPm+\"分\"+FPs+\"秒間\\n\")\n",
    "\n",
    "        \n",
    "        n = open('result1.txt', 'a', encoding='UTF-8')  #ファイルへの保存\n",
    "        n.write(\"故障状態のサーバアドレス　：\"+str(SA)+\"\\n\")\n",
    "        n.write(\"サーバの故障期間　：\"+l2[0]+\".000～\"+str(int(l3[0]))+str(int(l3[2])/1000).strip(\"0\")+\" ：\"+FPy+\"年\"+FPmo+\"カ月\"+FPd+\"日\"+FPh+\"時間\"+FPm+\"分\"+FPs+\"秒間\\n\")\n",
    "        n.close()\n",
    "\n",
    "f.close()"
   ]
  },
  {
   "cell_type": "code",
   "execution_count": null,
   "metadata": {},
   "outputs": [],
   "source": []
  },
  {
   "cell_type": "code",
   "execution_count": null,
   "metadata": {},
   "outputs": [],
   "source": []
  }
 ],
 "metadata": {
  "kernelspec": {
   "display_name": "Python 3",
   "language": "python",
   "name": "python3"
  },
  "language_info": {
   "codemirror_mode": {
    "name": "ipython",
    "version": 3
   },
   "file_extension": ".py",
   "mimetype": "text/x-python",
   "name": "python",
   "nbconvert_exporter": "python",
   "pygments_lexer": "ipython3",
   "version": "3.7.6"
  }
 },
 "nbformat": 4,
 "nbformat_minor": 4
}
