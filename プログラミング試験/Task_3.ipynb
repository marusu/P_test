{
 "cells": [
  {
   "cell_type": "code",
   "execution_count": 90,
   "metadata": {},
   "outputs": [
    {
     "name": "stdin",
     "output_type": "stream",
     "text": [
      " 4\n",
      " 1500\n"
     ]
    },
    {
     "name": "stdout",
     "output_type": "stream",
     "text": [
      "過負荷状態です\n",
      "20\n",
      "1304.0\n",
      "5\n",
      "過負荷状態のサーバアドレス　：10.20.30.7/16\n",
      "サーバの過負荷期間　：20201020133455.000～20201020133459 ：00年00カ月00日00時間00分04秒間\n",
      "\n",
      "過負荷状態ではありません\n"
     ]
    }
   ],
   "source": [
    "f = open('test3.txt', 'r', encoding='UTF-8') #監視ログファイルの読み込み\n",
    "open('result3.txt', 'w').close() #予め用意したresult1.txtの中身を空にする\n",
    "\n",
    "l1 = f.readlines() #ファイル内を1行ずつリストへ格納 \n",
    "l1.reverse()  #l1リストの並び替え（逆順）\n",
    "\n",
    "l1_1 =[]\n",
    "l1_2 =[]\n",
    "s_count = 0 #l1リスト内の要素数（監視ログの行数）カウント用 \n",
    "count_1 = 0 #l1_1リスト内の要素数カウント用 \n",
    "count_2 = 0 #l1_2リスト内の要素数カウント用 \n",
    "l2_1 = []\n",
    "l2_2 = []\n",
    "l2.clear \n",
    "m = int(input())   #入力\n",
    "t = int(input())   #入力\n",
    "\n",
    "for div in l1: #リスト内を1行ずつdiv変数に格納,リストの要素数分だけ繰り返す \n",
    "    s_count += 1  #行数の把握用\n",
    "    #リスト内データを2つのサーバーごとに振り分けてそれぞれリストに格納\n",
    "    if div.split(\",\")[1][0:9] == \"10.20.30.\":   \n",
    "        l1_1.append(div) \n",
    "    elif div.split(\",\")[1][0:10] == \"192.168.1.\": \n",
    "        l1_2.append(div)\n",
    "        \n",
    "#サーバ1\n",
    "for i in range(m): #入力値 m回だけ繰り返す\n",
    "    count_1 += 1 #何回目のループ（何要素目）かカウント \n",
    "    data=int(l1_1[count_1-1].split(\",\")[2])  #dataに応答結果を保存\n",
    "#     print(data)   \n",
    "    l2_1.append(data)  #応答結果のみをl2_1リストに格納 \n",
    "    ave = sum(l2_1)/count_1   #応答結果の平均値算出\n",
    "#     print(ave)\n",
    "if ave >= t :   #応答結果が指定値を超えている場合if文内処理\n",
    "    print(\"過負荷状態です\") \n",
    "    while ave >= t :   #応答結果が指定値を超えなくなるまで繰り返し\n",
    "        count_1 += 1   #何回目のループ（何要素目）かカウント \n",
    "        data=int(l1_1[count_1-1].split(\",\")[2])   #dataにdataに応答結果を保存\n",
    "        l2_1.append(data)  #応答結果のみをl2_1リストに格納\n",
    "        ave = sum(l2_1)/count_1  #応答結果の平均値算出\n",
    "        print(data) \n",
    "        print(ave) \n",
    "        print(count_1) \n",
    "        OP=str(int(l1_1[0].split(\",\")[0])-int(l1_1[count_1-1].split(\",\")[0]))   #過負荷期間割り出しの計算\n",
    "        OP2 = OP.zfill(12) #右詰め、何もないところは0埋め print(OP2)\n",
    "    print(\"過負荷状態のサーバアドレス　：\" + str(l1_1[count_1-1].split(\",\")[1])) \n",
    "    print(\"サーバの過負荷期間　：\"+str(l1_1[count_1-1].split(\",\")[0]) + \".000～\" + str(l1_1[0].split(\",\")[0]) + \" ：\"+OP2[-12:-10]+\"年\"+OP2[-10:-8]+\"カ月\"+OP2[-8:-6]+\"日\"+OP2[-6:-4]+\"時間\"+OP2[-4:-2]+\"分\"+OP2[-2:]+\"秒間\\n\")\n",
    "    n = open('result3.txt', 'a', encoding='UTF-8')  #ファイルへの保存\n",
    "    n.write(\"過負荷状態のサーバアドレス　：\" + str(l1_1[count_1-1].split(\",\")[1])+\"\\n\")\n",
    "    n.write(\"サーバの過負荷期間　：\"+str(l1_1[count_1-1].split(\",\")[0]) + \".000～\" + str(l1_1[0].split(\",\")[0]) + \" ：\"+OP2[-12:-10]+\"年\"+OP2[-10:-8]+\"カ月\"+OP2[-8:-6]+\"日\"+OP2[-6:-4]+\"時間\"+OP2[-4:-2]+\"分\"+OP2[-2:]+\"秒間\\n\\n\")\n",
    "    n.close()\n",
    "else:\n",
    "    print(\"過負荷状態ではありません\")\n",
    "    \n",
    "#サーバ2（サーバ1と同様のためコメント省略）\n",
    "for i in range(m): \n",
    "    count_2 += 1 \n",
    "    data=int(l1_2[count_2-1].split(\",\")[2]) \n",
    "#     print(data) \n",
    "    l2_2.append(data) \n",
    "    ave = sum(l2_2)/count_2 \n",
    "#     print(ave)\n",
    "if ave >= t : \n",
    "    print(\"過負荷状態です\") \n",
    "    while ave >= t : \n",
    "        count_2 += 1 \n",
    "        data=int(l1_2[count_2-1].split(\",\")[2])\n",
    "        l2_2.append(data)\n",
    "        ave = sum(l2_2)/count_2 \n",
    "        print(ave) \n",
    "        print(count_2) \n",
    "        OP=str(int(l1_2[0].split(\",\")[0])-int(l1_2[count_2-1].split(\",\")[0])) \n",
    "        OP2 = OP.zfill(12) \n",
    "    print(\"過負荷状態のサーバアドレス　：\" + str(l1_2[count_2-1].split(\",\")[1])) \n",
    "    print(\"サーバの過負荷期間　：\"+str(l1_2[count_2-1].split(\",\")[0]) + \".000～\" + str(l1_2[0].split(\",\")[0]) + \" ：\"+OP2[-12:-10]+\"年\"+OP2[-10:-8]+\"カ月\"+OP2[-8:-6]+\"日\"+OP2[-6:-4]+\"時間\"+OP2[-4:-2]+\"分\"+OP2[-2:]+\"秒間\\n\")\n",
    "    n = open('result3.txt', 'a', encoding='UTF-8') #ファイルへの保存\n",
    "    n.write(\"過負荷状態のサーバアドレス　：\" + str(l1_2[count_2-1].split(\",\")[1])+\"\\n\")\n",
    "    n.write(\"サーバの過負荷期間　：\"+str(l1_2[count_2-1].split(\",\")[0]) + \".000～\" + str(l1_2[0].split(\",\")[0]) + \" ：\"+OP2[-12:-10]+\"年\"+OP2[-10:-8]+\"カ月\"+OP2[-8:-6]+\"日\"+OP2[-6:-4]+\"時間\"+OP2[-4:-2]+\"分\"+OP2[-2:]+\"秒間\\n\")\n",
    "    n.close()\n",
    "else:\n",
    "    print(\"過負荷状態ではありません\")\n",
    "\n",
    "f.close()"
   ]
  },
  {
   "cell_type": "code",
   "execution_count": null,
   "metadata": {},
   "outputs": [],
   "source": []
  }
 ],
 "metadata": {
  "kernelspec": {
   "display_name": "Python 3",
   "language": "python",
   "name": "python3"
  },
  "language_info": {
   "codemirror_mode": {
    "name": "ipython",
    "version": 3
   },
   "file_extension": ".py",
   "mimetype": "text/x-python",
   "name": "python",
   "nbconvert_exporter": "python",
   "pygments_lexer": "ipython3",
   "version": "3.7.9"
  }
 },
 "nbformat": 4,
 "nbformat_minor": 4
}
