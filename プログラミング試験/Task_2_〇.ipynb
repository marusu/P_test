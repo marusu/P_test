{
 "cells": [
  {
   "cell_type": "code",
   "execution_count": 88,
   "metadata": {},
   "outputs": [
    {
     "name": "stdin",
     "output_type": "stream",
     "text": [
      " 2\n"
     ]
    },
    {
     "name": "stdout",
     "output_type": "stream",
     "text": [
      "故障状態のサーバアドレス　：10.20.30.1/16\n",
      "サーバの故障期間　：20201019133324.000～20201019133326.005 ：00年00カ月00日00時間00分02.005秒間\n",
      "\n",
      "故障状態のサーバアドレス　：10.20.30.4/16\n",
      "サーバの故障期間　：20201019133327.000～20201020133455.02 ：00年00カ月01日00時間01分28.02秒間\n",
      "\n"
     ]
    }
   ],
   "source": [
    "f = open('test2.txt', 'r', encoding='UTF-8')  #監視ログファイルの読み込み\n",
    "\n",
    "l1 = f.readlines()  #ファイル内を1行ずつリストへ格納\n",
    "\n",
    "open('result2.txt', 'w').close()  #予め用意したresult1.txtの中身を空にする\n",
    "count = 0  #l1リスト内の要素数（監視ログの行数）カウント用\n",
    "check_count = 0  #タイムアウトした行からping応答がある行まで行数を進める際に使用\n",
    "while_count = 0  # #while文の処理回数カウント用\n",
    "count_l = []\n",
    "N = int(input())\n",
    "\n",
    "\n",
    "for data in l1:  #リスト内を1行ずつdata変数に格納,リスト内の要素数分だけ繰り返す   \n",
    "    count += 1  #何回目のループ（何要素目）かカウントしておく\n",
    "#     print(count)\n",
    "#     print(data)\n",
    "    if \"-\" in data:  #「-」があったら（pingがタイムアウトしていたら）if文内の処理\n",
    "        count_l.append(count)  #タイムアウトしている要素の番号（何行目か）をcount_lリストに格納\n",
    "#     print(str(count_l) + \"\\n\")\n",
    "    \n",
    "for i in range(len(count_l)):  #タイムアウトしている要素の数だけ繰り返す\n",
    "    if check_count <= count_l[i]:  #check_countがタイムアウトしている要素の番号以下なら下の処理を適用\n",
    "        check_count = count_l[i]  #タイムアウトしている要素の番号（行数）をcheck_countに保存\n",
    "        while check_count in count_l:  #check_countの値がping応答のある行数と等しくなるまで1行ずつ進める\n",
    "            while_count += 1  #N回以上連続してタイムアウトしたかどうかの判定時に使用\n",
    "            check_count += 1\n",
    "#             print(check_count)\n",
    "        if while_count >= N:  #N回以上連続してタイムアウトしたかどうかの判定\n",
    "            FP = str(int(l1[check_count - 1].split(\",\")[0]) - int(l1[count_l[i] - 1].split(\",\")[0]))   #故障期間割り出しの計算\n",
    "            FP2 = FP.zfill(12)  #右詰め、何もないところは0埋め\n",
    "#             print(FP2)\n",
    "            print(\"故障状態のサーバアドレス　：\" + str(l1[count_l[i]-1].split(\",\")[1]))\n",
    "            print(\"サーバの故障期間　：\"+str(l1[count_l[i] - 1].split(\",\")[0]) + \".000～\" + str(l1[check_count - 1].split(\",\")[0]) + str(int(l1[check_count - 1].split(\",\")[2])/1000).strip(\"0\") + \" ：\"+FP2[-12:-10]+\"年\"+FP2[-10:-8]+\"カ月\"+FP2[-8:-6]+\"日\"+FP2[-6:-4]+\"時間\"+FP2[-4:-2]+\"分\"+FP2[-2:]+str(int(l1[check_count - 1].split(\",\")[2])/1000).strip(\"0\")+\"秒間\\n\")\n",
    "            \n",
    "            n = open('result2.txt', 'a', encoding='UTF-8')  #ファイルへの保存\n",
    "            n.write(\"故障状態のサーバアドレス　：\" + str(l1[count_l[i]-1].split(\",\")[1])+\"\\n\")\n",
    "            n.write(\"サーバの故障期間　：\"+str(l1[count_l[i] - 1].split(\",\")[0]) + \".000～\" + str(l1[check_count - 1].split(\",\")[0]) + str(int(l1[check_count - 1].split(\",\")[2])/1000).strip(\"0\") + \" ：\"+FP2[-12:-10]+\"年\"+FP2[-10:-8]+\"カ月\"+FP2[-8:-6]+\"日\"+FP2[-6:-4]+\"時間\"+FP2[-4:-2]+\"分\"+FP2[-2:]+str(int(l1[check_count - 1].split(\",\")[2])/1000).strip(\"0\")+\"秒間\\n\\n\")\n",
    "            n.close()\n",
    "f.close()\n"
   ]
  },
  {
   "cell_type": "code",
   "execution_count": null,
   "metadata": {},
   "outputs": [],
   "source": []
  },
  {
   "cell_type": "code",
   "execution_count": null,
   "metadata": {},
   "outputs": [],
   "source": []
  }
 ],
 "metadata": {
  "kernelspec": {
   "display_name": "Python 3",
   "language": "python",
   "name": "python3"
  },
  "language_info": {
   "codemirror_mode": {
    "name": "ipython",
    "version": 3
   },
   "file_extension": ".py",
   "mimetype": "text/x-python",
   "name": "python",
   "nbconvert_exporter": "python",
   "pygments_lexer": "ipython3",
   "version": "3.7.6"
  }
 },
 "nbformat": 4,
 "nbformat_minor": 4
}
